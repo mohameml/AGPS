{
 "cells": [
  {
   "cell_type": "markdown",
   "metadata": {
    "vscode": {
     "languageId": "plaintext"
    }
   },
   "source": [
    "### Data : ClosePrice"
   ]
  },
  {
   "cell_type": "code",
   "execution_count": 2,
   "metadata": {},
   "outputs": [],
   "source": [
    "import pandas as pd \n",
    "\n",
    "df = pd.read_excel('DonneesGPS2025.xlsx'  ,sheet_name = 'ClosePrice')\n",
    "\n",
    "df = df[[\n",
    "    'ASX200' ,\n",
    "    'EUROSTOXX50' , \n",
    "    'FTSE100',\t\n",
    "    'SP500'\t,\n",
    "    'TOPIX' , \n",
    "    'Date'\n",
    "]]\n",
    "\n",
    "df['Date'] = pd.to_datetime(df['Date'], errors='coerce')\n",
    "\n",
    "df = df.set_index('Date')\n",
    "\n",
    "df = df.dropna()\n"
   ]
  },
  {
   "cell_type": "code",
   "execution_count": 3,
   "metadata": {},
   "outputs": [
    {
     "data": {
      "text/plain": [
       "ASX200         3941.70\n",
       "EUROSTOXX50    2462.39\n",
       "FTSE100        4462.09\n",
       "SP500           929.23\n",
       "TOPIX           895.35\n",
       "Name: 2009-05-08 00:00:00, dtype: float64"
      ]
     },
     "execution_count": 3,
     "metadata": {},
     "output_type": "execute_result"
    }
   ],
   "source": [
    "df.loc['2009-05-08']"
   ]
  },
  {
   "cell_type": "markdown",
   "metadata": {},
   "source": [
    "### Data  TauxInteret : "
   ]
  },
  {
   "cell_type": "code",
   "execution_count": 3,
   "metadata": {},
   "outputs": [],
   "source": [
    "df = pd.read_excel('DonneesGPS2025.xlsx'  ,sheet_name = 'TauxInteret')\n",
    "\n",
    "df = df[[\n",
    "    'RAUD' ,\n",
    "    'REUR' , \n",
    "    'RGBP',\t\n",
    "    'RUSD'\t,\n",
    "    'RJPY' , \n",
    "    'Date'\n",
    "]]\n",
    "\n",
    "df['Date'] = pd.to_datetime(df['Date'], errors='coerce')\n",
    "\n",
    "df = df.set_index('Date')\n",
    "\n",
    "df = df.dropna()"
   ]
  },
  {
   "cell_type": "code",
   "execution_count": 4,
   "metadata": {},
   "outputs": [
    {
     "data": {
      "text/plain": [
       "RAUD    0.0350\n",
       "REUR    0.0130\n",
       "RGBP    0.0110\n",
       "RUSD    0.0076\n",
       "RJPY    0.0050\n",
       "Name: 2009-05-29 00:00:00, dtype: float64"
      ]
     },
     "execution_count": 4,
     "metadata": {},
     "output_type": "execute_result"
    }
   ],
   "source": [
    "df.loc['2009-05-29']\n"
   ]
  },
  {
   "cell_type": "markdown",
   "metadata": {},
   "source": [
    "### Data  TauxInteret : "
   ]
  },
  {
   "cell_type": "code",
   "execution_count": 5,
   "metadata": {},
   "outputs": [],
   "source": [
    "df = pd.read_excel('DonneesGPS2025.xlsx'  ,sheet_name = 'XFORPrice')\n",
    "\n",
    "df = df[[\n",
    "    'XAUD' ,\n",
    "    'XGBP',\t\n",
    "    'XUSD'\t,\n",
    "    'XJPY' , \n",
    "    'Date'\n",
    "]]\n",
    "\n",
    "df['Date'] = pd.to_datetime(df['Date'], errors='coerce')\n",
    "\n",
    "df = df.set_index('Date')\n",
    "\n",
    "df = df.dropna()"
   ]
  },
  {
   "cell_type": "code",
   "execution_count": 6,
   "metadata": {},
   "outputs": [
    {
     "data": {
      "text/plain": [
       "XAUD    0.566038\n",
       "XGBP    1.143523\n",
       "XUSD    0.706664\n",
       "XJPY    0.007416\n",
       "Name: 2009-05-29 00:00:00, dtype: float64"
      ]
     },
     "execution_count": 6,
     "metadata": {},
     "output_type": "execute_result"
    }
   ],
   "source": [
    "df.loc['2009-05-29']\n"
   ]
  }
 ],
 "metadata": {
  "kernelspec": {
   "display_name": "Python 3",
   "language": "python",
   "name": "python3"
  },
  "language_info": {
   "codemirror_mode": {
    "name": "ipython",
    "version": 3
   },
   "file_extension": ".py",
   "mimetype": "text/x-python",
   "name": "python",
   "nbconvert_exporter": "python",
   "pygments_lexer": "ipython3",
   "version": "3.10.12"
  }
 },
 "nbformat": 4,
 "nbformat_minor": 2
}
