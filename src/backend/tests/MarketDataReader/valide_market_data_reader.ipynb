{
 "cells": [
  {
   "cell_type": "markdown",
   "metadata": {
    "vscode": {
     "languageId": "plaintext"
    }
   },
   "source": [
    "### Data : ClosePrice"
   ]
  },
  {
   "cell_type": "code",
   "execution_count": 1,
   "metadata": {},
   "outputs": [],
   "source": [
    "import pandas as pd \n",
    "\n",
    "df = pd.read_excel('DonneesGPS2025.xlsx'  ,sheet_name = 'ClosePrice')\n",
    "\n",
    "df = df[[\n",
    "    'ASX200' ,\n",
    "    'EUROSTOXX50' , \n",
    "    'FTSE100',\t\n",
    "    'SP500'\t,\n",
    "    'TOPIX' , \n",
    "    'Date'\n",
    "]]\n",
    "\n",
    "df['Date'] = pd.to_datetime(df['Date'], errors='coerce')\n",
    "\n",
    "df = df.set_index('Date')\n",
    "\n",
    "df = df.dropna()\n",
    "\n",
    "\n",
    "# # afficher df du mois 05 dy 2009 \n",
    "# print(df.loc['2009-05'])\n",
    "\n",
    "# # afficher la taille du df \n",
    "# print(df.shape)"
   ]
  },
  {
   "cell_type": "code",
   "execution_count": 2,
   "metadata": {},
   "outputs": [
    {
     "data": {
      "text/plain": [
       "ASX200         3769.60\n",
       "EUROSTOXX50    2375.34\n",
       "FTSE100        4243.22\n",
       "SP500           877.52\n",
       "TOPIX           846.85\n",
       "Name: 2009-05-01 00:00:00, dtype: float64"
      ]
     },
     "execution_count": 2,
     "metadata": {},
     "output_type": "execute_result"
    }
   ],
   "source": [
    "df.loc['2009-05-01']"
   ]
  },
  {
   "cell_type": "markdown",
   "metadata": {},
   "source": [
    "### Data  TauxInteret : "
   ]
  },
  {
   "cell_type": "code",
   "execution_count": 3,
   "metadata": {},
   "outputs": [
    {
     "name": "stdout",
     "output_type": "stream",
     "text": [
      "              RAUD     REUR    RGBP    RUSD     RJPY\n",
      "Date                                                \n",
      "2009-05-01  0.0343  0.01410  0.0142  0.0112  0.00700\n",
      "2009-05-04  0.0367  0.01420  0.0121  0.0113  0.00700\n",
      "2009-05-05  0.0361  0.01390  0.0125  0.0113  0.00700\n",
      "2009-05-06  0.0361  0.01390  0.0123  0.0117  0.00665\n",
      "2009-05-07  0.0367  0.01370  0.0139  0.0107  0.00515\n",
      "2009-05-08  0.0368  0.01370  0.0122  0.0087  0.00650\n",
      "2009-05-11  0.0360  0.01240  0.0114  0.0102  0.00515\n",
      "2009-05-12  0.0357  0.01345  0.0125  0.0080  0.00570\n",
      "2009-05-13  0.0354  0.01340  0.0122  0.0099  0.00570\n",
      "2009-05-14  0.0350  0.01270  0.0122  0.0107  0.00580\n",
      "2009-05-15  0.0351  0.01320  0.0118  0.0087  0.00700\n",
      "2009-05-18  0.0349  0.01320  0.0117  0.0094  0.00700\n",
      "2009-05-19  0.0349  0.01305  0.0111  0.0081  0.00650\n",
      "2009-05-20  0.0354  0.01280  0.0132  0.0072  0.00505\n",
      "2009-05-21  0.0354  0.01295  0.0127  0.0075  0.00600\n",
      "2009-05-22  0.0350  0.01280  0.0108  0.0078  0.00600\n",
      "2009-05-25  0.0354  0.01280  0.0112  0.0065  0.00600\n",
      "2009-05-26  0.0350  0.01315  0.0109  0.0080  0.00500\n",
      "2009-05-27  0.0354  0.01220  0.0111  0.0080  0.00480\n",
      "2009-05-28  0.0349  0.01290  0.0114  0.0079  0.00490\n",
      "2009-05-29  0.0350  0.01300  0.0110  0.0076  0.00500\n"
     ]
    }
   ],
   "source": [
    "df = pd.read_excel('DonneesGPS2025.xlsx'  ,sheet_name = 'TauxInteret')\n",
    "\n",
    "df = df[[\n",
    "    'RAUD' ,\n",
    "    'REUR' , \n",
    "    'RGBP',\t\n",
    "    'RUSD'\t,\n",
    "    'RJPY' , \n",
    "    'Date'\n",
    "]]\n",
    "\n",
    "df['Date'] = pd.to_datetime(df['Date'], errors='coerce')\n",
    "\n",
    "df = df.set_index('Date')\n",
    "\n",
    "df = df.dropna()\n",
    "\n",
    "# afficher df du mois 05 dy 2009 \n",
    "print(df.loc['2009-05'])"
   ]
  },
  {
   "cell_type": "code",
   "execution_count": 5,
   "metadata": {},
   "outputs": [
    {
     "data": {
      "text/plain": [
       "RAUD    0.0460\n",
       "REUR    0.0283\n",
       "RGBP    0.0235\n",
       "RUSD    0.0148\n",
       "RJPY    0.0075\n",
       "Name: 2009-01-05 00:00:00, dtype: float64"
      ]
     },
     "execution_count": 5,
     "metadata": {},
     "output_type": "execute_result"
    }
   ],
   "source": [
    "df.loc['2009-01-05']\n"
   ]
  },
  {
   "cell_type": "markdown",
   "metadata": {},
   "source": [
    "### Data  TauxInteret : "
   ]
  },
  {
   "cell_type": "code",
   "execution_count": 4,
   "metadata": {},
   "outputs": [],
   "source": [
    "df = pd.read_excel('DonneesGPS2025.xlsx'  ,sheet_name = 'XFORPrice')\n",
    "\n",
    "df = df[[\n",
    "    'XAUD' ,\n",
    "    'XGBP',\t\n",
    "    'XUSD'\t,\n",
    "    'XJPY' , \n",
    "    'Date'\n",
    "]]\n",
    "\n",
    "df['Date'] = pd.to_datetime(df['Date'], errors='coerce')\n",
    "\n",
    "df = df.set_index('Date')\n",
    "\n",
    "df = df.dropna()"
   ]
  },
  {
   "cell_type": "code",
   "execution_count": 10,
   "metadata": {},
   "outputs": [
    {
     "data": {
      "text/plain": [
       "XAUD    0.550705\n",
       "XGBP    1.124708\n",
       "XUSD    0.753977\n",
       "XJPY    0.007610\n",
       "Name: 2009-05-01 00:00:00, dtype: float64"
      ]
     },
     "execution_count": 10,
     "metadata": {},
     "output_type": "execute_result"
    }
   ],
   "source": [
    "df.loc['2009-05-01']\n"
   ]
  },
  {
   "cell_type": "code",
   "execution_count": 8,
   "metadata": {},
   "outputs": [
    {
     "name": "stdout",
     "output_type": "stream",
     "text": [
      "4772.38347976\n",
      "661.62989704\n",
      "6.4445285\n",
      "2075.937568\n"
     ]
    }
   ],
   "source": [
    "# Test :\n",
    " \n",
    "# USD : \n",
    "print( 4243.22 * 1.124708)\n",
    "\n",
    "# GBP : \n",
    "print( 877.52 * 0.753977)\n",
    "\n",
    "# JPY  : \n",
    "print( 846.85 * 0.007610)\n",
    "\n",
    "# AUD : \n",
    "print(3769.60 * 0.550705)\n"
   ]
  }
 ],
 "metadata": {
  "kernelspec": {
   "display_name": "Python 3",
   "language": "python",
   "name": "python3"
  },
  "language_info": {
   "codemirror_mode": {
    "name": "ipython",
    "version": 3
   },
   "file_extension": ".py",
   "mimetype": "text/x-python",
   "name": "python",
   "nbconvert_exporter": "python",
   "pygments_lexer": "ipython3",
   "version": "3.10.12"
  }
 },
 "nbformat": 4,
 "nbformat_minor": 2
}
